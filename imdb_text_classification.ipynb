{
  "nbformat": 4,
  "nbformat_minor": 0,
  "metadata": {
    "colab": {
      "name": "Untitled23.ipynb",
      "provenance": []
    },
    "kernelspec": {
      "name": "python3",
      "display_name": "Python 3"
    }
  },
  "cells": [
    {
      "cell_type": "markdown",
      "metadata": {
        "id": "NavXkG2vE2jy"
      },
      "source": [
        "**Text classification of IMDB movie summaries**"
      ]
    },
    {
      "cell_type": "markdown",
      "metadata": {
        "id": "geAKalMPAq8E"
      },
      "source": [
        "Load in common libraries, most importanly Tensorflow:"
      ]
    },
    {
      "cell_type": "code",
      "metadata": {
        "id": "LogQhoVE1DMW"
      },
      "source": [
        "import matplotlib.pyplot as plt\n",
        "import os\n",
        "import re\n",
        "import numpy as np\n",
        "import shutil\n",
        "import string\n",
        "import tensorflow as tf\n",
        "\n",
        "from tensorflow.keras import layers\n",
        "from tensorflow.keras import losses\n",
        "from tensorflow.keras import preprocessing\n",
        "from tensorflow.keras.layers.experimental.preprocessing import TextVectorization"
      ],
      "execution_count": 1,
      "outputs": []
    },
    {
      "cell_type": "markdown",
      "metadata": {
        "id": "yp11_95_A070"
      },
      "source": [
        "Load in the data I scraped from IMDB. It contains 2100 movie descriptions from 3 genres (crime, romance, and sci-fi). 1680 (80%) are used for training, the remaining to test."
      ]
    },
    {
      "cell_type": "code",
      "metadata": {
        "id": "ngWu5zXk1QsX"
      },
      "source": [
        "url = \"https://github.com/cookm346/imdb_summary_scraper/raw/master/imdb_summaries_3_class.tar.gz\"\n",
        "\n",
        "dataset = tf.keras.utils.get_file(\"imdb_summaries_3_class.tar.gz\", url,\n",
        "                                    untar=True, cache_dir='.',\n",
        "                                    cache_subdir='')\n",
        "\n",
        "dataset_dir = os.path.join(os.path.dirname(dataset), 'imdb_summaries_3_class')"
      ],
      "execution_count": 2,
      "outputs": []
    },
    {
      "cell_type": "code",
      "metadata": {
        "colab": {
          "base_uri": "https://localhost:8080/"
        },
        "id": "2T4FAbzi1RPU",
        "outputId": "a8d7b3ef-d9ec-43a0-fb8f-3882e55d5318"
      },
      "source": [
        "os.listdir(dataset_dir)"
      ],
      "execution_count": 3,
      "outputs": [
        {
          "output_type": "execute_result",
          "data": {
            "text/plain": [
              "['train', 'test']"
            ]
          },
          "metadata": {
            "tags": []
          },
          "execution_count": 3
        }
      ]
    },
    {
      "cell_type": "code",
      "metadata": {
        "colab": {
          "base_uri": "https://localhost:8080/",
          "height": 36
        },
        "id": "wx7tCysn1TDU",
        "outputId": "d8f2b487-a7da-43d3-8e9c-b9375bf0edcf"
      },
      "source": [
        "dataset_dir"
      ],
      "execution_count": 4,
      "outputs": [
        {
          "output_type": "execute_result",
          "data": {
            "application/vnd.google.colaboratory.intrinsic+json": {
              "type": "string"
            },
            "text/plain": [
              "'./imdb_summaries_3_class'"
            ]
          },
          "metadata": {
            "tags": []
          },
          "execution_count": 4
        }
      ]
    },
    {
      "cell_type": "code",
      "metadata": {
        "colab": {
          "base_uri": "https://localhost:8080/"
        },
        "id": "cFSnvxVZ1VUO",
        "outputId": "cedec8e7-9f4d-4a0b-96b0-d4066fedf8fe"
      },
      "source": [
        "train_dir = os.path.join(dataset_dir, 'train')\n",
        "os.listdir(train_dir)"
      ],
      "execution_count": 5,
      "outputs": [
        {
          "output_type": "execute_result",
          "data": {
            "text/plain": [
              "['crime', 'sci-fi', 'romance']"
            ]
          },
          "metadata": {
            "tags": []
          },
          "execution_count": 5
        }
      ]
    },
    {
      "cell_type": "code",
      "metadata": {
        "colab": {
          "base_uri": "https://localhost:8080/"
        },
        "id": "TPUuGZMN1WZM",
        "outputId": "61486311-9843-417b-da2f-c6365949b9d3"
      },
      "source": [
        "sample_file = os.path.join(train_dir, 'sci-fi/1.txt')\n",
        "with open(sample_file) as f:\n",
        "  print(f.read())"
      ],
      "execution_count": 6,
      "outputs": [
        {
          "output_type": "stream",
          "text": [
            "\n",
            "    When a beautiful stranger leads computer hacker Neo to a forbidding underworld, he discovers the shocking truth--the life he knows is the elaborate deception of an evil cyber-intelligence.\n"
          ],
          "name": "stdout"
        }
      ]
    },
    {
      "cell_type": "code",
      "metadata": {
        "colab": {
          "base_uri": "https://localhost:8080/"
        },
        "id": "7RJR4YNW1YK9",
        "outputId": "deb6289f-0b95-4253-c17d-ff037f40131e"
      },
      "source": [
        "batch_size = 32\n",
        "seed = 42\n",
        "\n",
        "raw_train_ds = tf.keras.preprocessing.text_dataset_from_directory(\n",
        "    train_dir, \n",
        "    batch_size=batch_size, \n",
        "    validation_split=0.2, \n",
        "    subset='training', \n",
        "    seed=seed)"
      ],
      "execution_count": 7,
      "outputs": [
        {
          "output_type": "stream",
          "text": [
            "Found 1680 files belonging to 3 classes.\n",
            "Using 1344 files for training.\n"
          ],
          "name": "stdout"
        }
      ]
    },
    {
      "cell_type": "code",
      "metadata": {
        "colab": {
          "base_uri": "https://localhost:8080/"
        },
        "id": "80Fq0vg11bST",
        "outputId": "1b250354-74b0-41b2-d37c-42377ba30239"
      },
      "source": [
        "for text_batch, label_batch in raw_train_ds.take(1):\n",
        "  for i in range(3):\n",
        "    print(\"Review\", text_batch.numpy()[i])\n",
        "    print(\"Label\", label_batch.numpy()[i])"
      ],
      "execution_count": 8,
      "outputs": [
        {
          "output_type": "stream",
          "text": [
            "Review b\"\\n    A human soldier is sent from 2029 to 1984 to stop an almost indestructible cyborg killing machine, sent from the same year, which has been programmed to execute a young woman whose unborn son is the key to humanity's future salvation.\"\n",
            "Label 2\n",
            "Review b'\\n    In the midst of a searing Florida heat wave, a woman persuades her lover, a small-town lawyer, to murder her rich husband.'\n",
            "Label 0\n",
            "Review b'\\n    Two youngsters from rival New York City gangs fall in love, but tensions between their respective friends build toward tragedy.'\n",
            "Label 1\n"
          ],
          "name": "stdout"
        }
      ]
    },
    {
      "cell_type": "code",
      "metadata": {
        "colab": {
          "base_uri": "https://localhost:8080/"
        },
        "id": "pavSoJkh1ene",
        "outputId": "a8911a3b-e535-4cc3-b3cb-e86ee612d6e1"
      },
      "source": [
        "print(\"Label 0 corresponds to\", raw_train_ds.class_names[0])\n",
        "print(\"Label 1 corresponds to\", raw_train_ds.class_names[1])\n",
        "print(\"Label 2 corresponds to\", raw_train_ds.class_names[2])"
      ],
      "execution_count": 9,
      "outputs": [
        {
          "output_type": "stream",
          "text": [
            "Label 0 corresponds to crime\n",
            "Label 1 corresponds to romance\n",
            "Label 2 corresponds to sci-fi\n"
          ],
          "name": "stdout"
        }
      ]
    },
    {
      "cell_type": "markdown",
      "metadata": {
        "id": "Df8iHeIrBuuo"
      },
      "source": [
        "I'll take 20% of the training set and use it for a validation set:)"
      ]
    },
    {
      "cell_type": "code",
      "metadata": {
        "colab": {
          "base_uri": "https://localhost:8080/"
        },
        "id": "8dmwwGnK1jhu",
        "outputId": "1ed43cc1-7f7d-4ed9-c453-dc386c9fb078"
      },
      "source": [
        "raw_val_ds = tf.keras.preprocessing.text_dataset_from_directory(\n",
        "    train_dir, \n",
        "    batch_size=batch_size, \n",
        "    validation_split=0.2, \n",
        "    subset='validation', \n",
        "    seed=seed)"
      ],
      "execution_count": 10,
      "outputs": [
        {
          "output_type": "stream",
          "text": [
            "Found 1680 files belonging to 3 classes.\n",
            "Using 336 files for validation.\n"
          ],
          "name": "stdout"
        }
      ]
    },
    {
      "cell_type": "code",
      "metadata": {
        "colab": {
          "base_uri": "https://localhost:8080/"
        },
        "id": "a5pSJeKo11_u",
        "outputId": "8a729a44-e43f-4187-dd3c-e1dae4c8c7c6"
      },
      "source": [
        "raw_test_ds = tf.keras.preprocessing.text_dataset_from_directory(\n",
        "    os.path.join(dataset_dir, 'test'), \n",
        "    batch_size=batch_size)"
      ],
      "execution_count": 11,
      "outputs": [
        {
          "output_type": "stream",
          "text": [
            "Found 420 files belonging to 3 classes.\n"
          ],
          "name": "stdout"
        }
      ]
    },
    {
      "cell_type": "markdown",
      "metadata": {
        "id": "W_r0-4n1B5GF"
      },
      "source": [
        "I'll preprocess the text:"
      ]
    },
    {
      "cell_type": "code",
      "metadata": {
        "id": "1CTCoPCy2K2t"
      },
      "source": [
        "def custom_standardization(input_data):\n",
        "  lowercase = tf.strings.lower(input_data)\n",
        "  stripped_html = tf.strings.regex_replace(lowercase, '\\n', ' ')\n",
        "  return tf.strings.regex_replace(stripped_html,\n",
        "                                  '[%s]' % re.escape(string.punctuation),\n",
        "                                  '')"
      ],
      "execution_count": 12,
      "outputs": []
    },
    {
      "cell_type": "code",
      "metadata": {
        "id": "s5vaC_nV2NSO"
      },
      "source": [
        "max_features = 1000\n",
        "sequence_length = 30\n",
        "\n",
        "vectorize_layer = TextVectorization(\n",
        "    standardize=custom_standardization,\n",
        "    max_tokens=max_features,\n",
        "    output_mode='int',\n",
        "    output_sequence_length=sequence_length)"
      ],
      "execution_count": 13,
      "outputs": []
    },
    {
      "cell_type": "code",
      "metadata": {
        "id": "Mml3bEJe2P2G"
      },
      "source": [
        "train_text = raw_train_ds.map(lambda x, y: x)\n",
        "vectorize_layer.adapt(train_text)"
      ],
      "execution_count": 14,
      "outputs": []
    },
    {
      "cell_type": "code",
      "metadata": {
        "id": "J9MU4bbG2ThF"
      },
      "source": [
        "def vectorize_text(text, label):\n",
        "  text = tf.expand_dims(text, -1)\n",
        "  return vectorize_layer(text), label"
      ],
      "execution_count": 15,
      "outputs": []
    },
    {
      "cell_type": "code",
      "metadata": {
        "id": "zyWIzMZF2VPV"
      },
      "source": [
        "train_ds = raw_train_ds.map(vectorize_text)\n",
        "val_ds = raw_val_ds.map(vectorize_text)\n",
        "test_ds = raw_test_ds.map(vectorize_text)"
      ],
      "execution_count": 16,
      "outputs": []
    },
    {
      "cell_type": "code",
      "metadata": {
        "id": "cjoQ0qh52ZkU"
      },
      "source": [
        "AUTOTUNE = tf.data.experimental.AUTOTUNE\n",
        "\n",
        "train_ds = train_ds.cache().prefetch(buffer_size=AUTOTUNE)\n",
        "val_ds = val_ds.cache().prefetch(buffer_size=AUTOTUNE)\n",
        "test_ds = test_ds.cache().prefetch(buffer_size=AUTOTUNE)"
      ],
      "execution_count": 17,
      "outputs": []
    },
    {
      "cell_type": "markdown",
      "metadata": {
        "id": "qgUEaRTPCGDY"
      },
      "source": [
        "The model will train the learn to classify the movies' genre from it's summary. To do this, the model basically averages each word vector for a given summary (i.e., computes the semantic gist of each summary). The model also simultaneously builds word embeddings. Using 80% dropout prevents overfitting to some degree."
      ]
    },
    {
      "cell_type": "code",
      "metadata": {
        "id": "bADsXdgi2bWc"
      },
      "source": [
        "embedding_dim = 30"
      ],
      "execution_count": 18,
      "outputs": []
    },
    {
      "cell_type": "code",
      "metadata": {
        "colab": {
          "base_uri": "https://localhost:8080/"
        },
        "id": "niY0pX8T2czM",
        "outputId": "7a692a7f-21b7-4bc7-8b3f-83e66b067779"
      },
      "source": [
        "model = tf.keras.Sequential([\n",
        "  layers.Embedding(max_features + 1, embedding_dim),\n",
        "  layers.Dropout(0.8),\n",
        "  layers.GlobalAveragePooling1D(),\n",
        "  layers.Dropout(0.8),\n",
        "  layers.Dense(3, activation=\"softmax\")])\n",
        "\n",
        "model.summary()"
      ],
      "execution_count": 19,
      "outputs": [
        {
          "output_type": "stream",
          "text": [
            "Model: \"sequential\"\n",
            "_________________________________________________________________\n",
            "Layer (type)                 Output Shape              Param #   \n",
            "=================================================================\n",
            "embedding (Embedding)        (None, None, 30)          30030     \n",
            "_________________________________________________________________\n",
            "dropout (Dropout)            (None, None, 30)          0         \n",
            "_________________________________________________________________\n",
            "global_average_pooling1d (Gl (None, 30)                0         \n",
            "_________________________________________________________________\n",
            "dropout_1 (Dropout)          (None, 30)                0         \n",
            "_________________________________________________________________\n",
            "dense (Dense)                (None, 3)                 93        \n",
            "=================================================================\n",
            "Total params: 30,123\n",
            "Trainable params: 30,123\n",
            "Non-trainable params: 0\n",
            "_________________________________________________________________\n"
          ],
          "name": "stdout"
        }
      ]
    },
    {
      "cell_type": "code",
      "metadata": {
        "id": "dlifP2dN2d91"
      },
      "source": [
        "model.compile(loss=losses.SparseCategoricalCrossentropy(),\n",
        "              optimizer='adam',\n",
        "              metrics=tf.metrics.SparseCategoricalAccuracy())"
      ],
      "execution_count": 20,
      "outputs": []
    },
    {
      "cell_type": "code",
      "metadata": {
        "colab": {
          "base_uri": "https://localhost:8080/"
        },
        "id": "5uLqaBhx2fqF",
        "outputId": "e1f030aa-a875-465f-de0b-991963d1e3d2"
      },
      "source": [
        "epochs = 100\n",
        "history = model.fit(\n",
        "    train_ds,\n",
        "    validation_data=val_ds,\n",
        "    epochs=epochs)"
      ],
      "execution_count": 21,
      "outputs": [
        {
          "output_type": "stream",
          "text": [
            "Epoch 1/100\n",
            "42/42 [==============================] - 0s 11ms/step - loss: 1.0998 - sparse_categorical_accuracy: 0.3326 - val_loss: 1.0977 - val_sparse_categorical_accuracy: 0.3274\n",
            "Epoch 2/100\n",
            "42/42 [==============================] - 0s 2ms/step - loss: 1.0956 - sparse_categorical_accuracy: 0.3653 - val_loss: 1.0969 - val_sparse_categorical_accuracy: 0.3482\n",
            "Epoch 3/100\n",
            "42/42 [==============================] - 0s 2ms/step - loss: 1.0915 - sparse_categorical_accuracy: 0.4003 - val_loss: 1.0960 - val_sparse_categorical_accuracy: 0.3929\n",
            "Epoch 4/100\n",
            "42/42 [==============================] - 0s 3ms/step - loss: 1.0917 - sparse_categorical_accuracy: 0.3876 - val_loss: 1.0942 - val_sparse_categorical_accuracy: 0.4196\n",
            "Epoch 5/100\n",
            "42/42 [==============================] - 0s 3ms/step - loss: 1.0904 - sparse_categorical_accuracy: 0.4048 - val_loss: 1.0923 - val_sparse_categorical_accuracy: 0.4107\n",
            "Epoch 6/100\n",
            "42/42 [==============================] - 0s 3ms/step - loss: 1.0846 - sparse_categorical_accuracy: 0.4174 - val_loss: 1.0902 - val_sparse_categorical_accuracy: 0.4107\n",
            "Epoch 7/100\n",
            "42/42 [==============================] - 0s 3ms/step - loss: 1.0802 - sparse_categorical_accuracy: 0.4591 - val_loss: 1.0879 - val_sparse_categorical_accuracy: 0.4435\n",
            "Epoch 8/100\n",
            "42/42 [==============================] - 0s 3ms/step - loss: 1.0787 - sparse_categorical_accuracy: 0.4479 - val_loss: 1.0857 - val_sparse_categorical_accuracy: 0.4702\n",
            "Epoch 9/100\n",
            "42/42 [==============================] - 0s 3ms/step - loss: 1.0743 - sparse_categorical_accuracy: 0.4702 - val_loss: 1.0818 - val_sparse_categorical_accuracy: 0.5089\n",
            "Epoch 10/100\n",
            "42/42 [==============================] - 0s 2ms/step - loss: 1.0708 - sparse_categorical_accuracy: 0.4836 - val_loss: 1.0786 - val_sparse_categorical_accuracy: 0.5179\n",
            "Epoch 11/100\n",
            "42/42 [==============================] - 0s 2ms/step - loss: 1.0643 - sparse_categorical_accuracy: 0.5089 - val_loss: 1.0751 - val_sparse_categorical_accuracy: 0.5417\n",
            "Epoch 12/100\n",
            "42/42 [==============================] - 0s 3ms/step - loss: 1.0616 - sparse_categorical_accuracy: 0.4993 - val_loss: 1.0712 - val_sparse_categorical_accuracy: 0.5417\n",
            "Epoch 13/100\n",
            "42/42 [==============================] - 0s 3ms/step - loss: 1.0553 - sparse_categorical_accuracy: 0.5171 - val_loss: 1.0672 - val_sparse_categorical_accuracy: 0.5536\n",
            "Epoch 14/100\n",
            "42/42 [==============================] - 0s 3ms/step - loss: 1.0513 - sparse_categorical_accuracy: 0.5201 - val_loss: 1.0613 - val_sparse_categorical_accuracy: 0.5685\n",
            "Epoch 15/100\n",
            "42/42 [==============================] - 0s 3ms/step - loss: 1.0407 - sparse_categorical_accuracy: 0.5394 - val_loss: 1.0567 - val_sparse_categorical_accuracy: 0.5625\n",
            "Epoch 16/100\n",
            "42/42 [==============================] - 0s 3ms/step - loss: 1.0371 - sparse_categorical_accuracy: 0.5208 - val_loss: 1.0525 - val_sparse_categorical_accuracy: 0.5685\n",
            "Epoch 17/100\n",
            "42/42 [==============================] - 0s 3ms/step - loss: 1.0255 - sparse_categorical_accuracy: 0.5387 - val_loss: 1.0475 - val_sparse_categorical_accuracy: 0.5714\n",
            "Epoch 18/100\n",
            "42/42 [==============================] - 0s 2ms/step - loss: 1.0240 - sparse_categorical_accuracy: 0.5372 - val_loss: 1.0402 - val_sparse_categorical_accuracy: 0.5774\n",
            "Epoch 19/100\n",
            "42/42 [==============================] - 0s 3ms/step - loss: 1.0191 - sparse_categorical_accuracy: 0.5387 - val_loss: 1.0354 - val_sparse_categorical_accuracy: 0.5804\n",
            "Epoch 20/100\n",
            "42/42 [==============================] - 0s 3ms/step - loss: 1.0182 - sparse_categorical_accuracy: 0.5357 - val_loss: 1.0305 - val_sparse_categorical_accuracy: 0.5714\n",
            "Epoch 21/100\n",
            "42/42 [==============================] - 0s 3ms/step - loss: 1.0026 - sparse_categorical_accuracy: 0.5580 - val_loss: 1.0254 - val_sparse_categorical_accuracy: 0.5774\n",
            "Epoch 22/100\n",
            "42/42 [==============================] - 0s 3ms/step - loss: 0.9990 - sparse_categorical_accuracy: 0.5744 - val_loss: 1.0197 - val_sparse_categorical_accuracy: 0.5923\n",
            "Epoch 23/100\n",
            "42/42 [==============================] - 0s 3ms/step - loss: 0.9922 - sparse_categorical_accuracy: 0.5603 - val_loss: 1.0139 - val_sparse_categorical_accuracy: 0.5982\n",
            "Epoch 24/100\n",
            "42/42 [==============================] - 0s 3ms/step - loss: 0.9745 - sparse_categorical_accuracy: 0.5960 - val_loss: 1.0082 - val_sparse_categorical_accuracy: 0.6071\n",
            "Epoch 25/100\n",
            "42/42 [==============================] - 0s 3ms/step - loss: 0.9701 - sparse_categorical_accuracy: 0.5781 - val_loss: 1.0023 - val_sparse_categorical_accuracy: 0.6042\n",
            "Epoch 26/100\n",
            "42/42 [==============================] - 0s 3ms/step - loss: 0.9610 - sparse_categorical_accuracy: 0.6064 - val_loss: 0.9969 - val_sparse_categorical_accuracy: 0.6161\n",
            "Epoch 27/100\n",
            "42/42 [==============================] - 0s 3ms/step - loss: 0.9591 - sparse_categorical_accuracy: 0.5960 - val_loss: 0.9916 - val_sparse_categorical_accuracy: 0.6220\n",
            "Epoch 28/100\n",
            "42/42 [==============================] - 0s 3ms/step - loss: 0.9430 - sparse_categorical_accuracy: 0.5952 - val_loss: 0.9853 - val_sparse_categorical_accuracy: 0.6190\n",
            "Epoch 29/100\n",
            "42/42 [==============================] - 0s 3ms/step - loss: 0.9365 - sparse_categorical_accuracy: 0.6086 - val_loss: 0.9779 - val_sparse_categorical_accuracy: 0.6101\n",
            "Epoch 30/100\n",
            "42/42 [==============================] - 0s 3ms/step - loss: 0.9253 - sparse_categorical_accuracy: 0.6168 - val_loss: 0.9721 - val_sparse_categorical_accuracy: 0.6190\n",
            "Epoch 31/100\n",
            "42/42 [==============================] - 0s 3ms/step - loss: 0.9161 - sparse_categorical_accuracy: 0.6362 - val_loss: 0.9676 - val_sparse_categorical_accuracy: 0.6280\n",
            "Epoch 32/100\n",
            "42/42 [==============================] - 0s 3ms/step - loss: 0.9199 - sparse_categorical_accuracy: 0.6310 - val_loss: 0.9608 - val_sparse_categorical_accuracy: 0.6280\n",
            "Epoch 33/100\n",
            "42/42 [==============================] - 0s 3ms/step - loss: 0.9178 - sparse_categorical_accuracy: 0.6116 - val_loss: 0.9586 - val_sparse_categorical_accuracy: 0.6220\n",
            "Epoch 34/100\n",
            "42/42 [==============================] - 0s 3ms/step - loss: 0.9099 - sparse_categorical_accuracy: 0.6116 - val_loss: 0.9532 - val_sparse_categorical_accuracy: 0.6220\n",
            "Epoch 35/100\n",
            "42/42 [==============================] - 0s 3ms/step - loss: 0.9016 - sparse_categorical_accuracy: 0.6272 - val_loss: 0.9472 - val_sparse_categorical_accuracy: 0.6250\n",
            "Epoch 36/100\n",
            "42/42 [==============================] - 0s 2ms/step - loss: 0.8945 - sparse_categorical_accuracy: 0.6339 - val_loss: 0.9436 - val_sparse_categorical_accuracy: 0.6250\n",
            "Epoch 37/100\n",
            "42/42 [==============================] - 0s 3ms/step - loss: 0.8851 - sparse_categorical_accuracy: 0.6376 - val_loss: 0.9375 - val_sparse_categorical_accuracy: 0.6280\n",
            "Epoch 38/100\n",
            "42/42 [==============================] - 0s 2ms/step - loss: 0.8778 - sparse_categorical_accuracy: 0.6414 - val_loss: 0.9332 - val_sparse_categorical_accuracy: 0.6488\n",
            "Epoch 39/100\n",
            "42/42 [==============================] - 0s 3ms/step - loss: 0.8737 - sparse_categorical_accuracy: 0.6421 - val_loss: 0.9272 - val_sparse_categorical_accuracy: 0.6488\n",
            "Epoch 40/100\n",
            "42/42 [==============================] - 0s 3ms/step - loss: 0.8685 - sparse_categorical_accuracy: 0.6607 - val_loss: 0.9213 - val_sparse_categorical_accuracy: 0.6518\n",
            "Epoch 41/100\n",
            "42/42 [==============================] - 0s 3ms/step - loss: 0.8684 - sparse_categorical_accuracy: 0.6406 - val_loss: 0.9169 - val_sparse_categorical_accuracy: 0.6607\n",
            "Epoch 42/100\n",
            "42/42 [==============================] - 0s 3ms/step - loss: 0.8450 - sparse_categorical_accuracy: 0.6555 - val_loss: 0.9153 - val_sparse_categorical_accuracy: 0.6577\n",
            "Epoch 43/100\n",
            "42/42 [==============================] - 0s 3ms/step - loss: 0.8483 - sparse_categorical_accuracy: 0.6488 - val_loss: 0.9109 - val_sparse_categorical_accuracy: 0.6488\n",
            "Epoch 44/100\n",
            "42/42 [==============================] - 0s 3ms/step - loss: 0.8362 - sparse_categorical_accuracy: 0.6711 - val_loss: 0.9075 - val_sparse_categorical_accuracy: 0.6548\n",
            "Epoch 45/100\n",
            "42/42 [==============================] - 0s 3ms/step - loss: 0.8379 - sparse_categorical_accuracy: 0.6548 - val_loss: 0.9016 - val_sparse_categorical_accuracy: 0.6607\n",
            "Epoch 46/100\n",
            "42/42 [==============================] - 0s 3ms/step - loss: 0.8243 - sparse_categorical_accuracy: 0.6667 - val_loss: 0.8966 - val_sparse_categorical_accuracy: 0.6637\n",
            "Epoch 47/100\n",
            "42/42 [==============================] - 0s 3ms/step - loss: 0.8280 - sparse_categorical_accuracy: 0.6607 - val_loss: 0.8939 - val_sparse_categorical_accuracy: 0.6548\n",
            "Epoch 48/100\n",
            "42/42 [==============================] - 0s 3ms/step - loss: 0.8208 - sparse_categorical_accuracy: 0.6652 - val_loss: 0.8916 - val_sparse_categorical_accuracy: 0.6518\n",
            "Epoch 49/100\n",
            "42/42 [==============================] - 0s 3ms/step - loss: 0.8220 - sparse_categorical_accuracy: 0.6600 - val_loss: 0.8883 - val_sparse_categorical_accuracy: 0.6637\n",
            "Epoch 50/100\n",
            "42/42 [==============================] - 0s 3ms/step - loss: 0.8184 - sparse_categorical_accuracy: 0.6704 - val_loss: 0.8840 - val_sparse_categorical_accuracy: 0.6577\n",
            "Epoch 51/100\n",
            "42/42 [==============================] - 0s 3ms/step - loss: 0.8138 - sparse_categorical_accuracy: 0.6637 - val_loss: 0.8782 - val_sparse_categorical_accuracy: 0.6726\n",
            "Epoch 52/100\n",
            "42/42 [==============================] - 0s 3ms/step - loss: 0.8004 - sparse_categorical_accuracy: 0.6845 - val_loss: 0.8745 - val_sparse_categorical_accuracy: 0.6726\n",
            "Epoch 53/100\n",
            "42/42 [==============================] - 0s 3ms/step - loss: 0.7905 - sparse_categorical_accuracy: 0.6719 - val_loss: 0.8692 - val_sparse_categorical_accuracy: 0.6905\n",
            "Epoch 54/100\n",
            "42/42 [==============================] - 0s 3ms/step - loss: 0.7931 - sparse_categorical_accuracy: 0.6689 - val_loss: 0.8664 - val_sparse_categorical_accuracy: 0.6786\n",
            "Epoch 55/100\n",
            "42/42 [==============================] - 0s 3ms/step - loss: 0.7931 - sparse_categorical_accuracy: 0.6481 - val_loss: 0.8662 - val_sparse_categorical_accuracy: 0.6815\n",
            "Epoch 56/100\n",
            "42/42 [==============================] - 0s 3ms/step - loss: 0.8085 - sparse_categorical_accuracy: 0.6622 - val_loss: 0.8619 - val_sparse_categorical_accuracy: 0.6726\n",
            "Epoch 57/100\n",
            "42/42 [==============================] - 0s 3ms/step - loss: 0.7786 - sparse_categorical_accuracy: 0.6696 - val_loss: 0.8579 - val_sparse_categorical_accuracy: 0.6875\n",
            "Epoch 58/100\n",
            "42/42 [==============================] - 0s 3ms/step - loss: 0.7865 - sparse_categorical_accuracy: 0.6734 - val_loss: 0.8546 - val_sparse_categorical_accuracy: 0.6905\n",
            "Epoch 59/100\n",
            "42/42 [==============================] - 0s 3ms/step - loss: 0.7643 - sparse_categorical_accuracy: 0.6786 - val_loss: 0.8526 - val_sparse_categorical_accuracy: 0.6875\n",
            "Epoch 60/100\n",
            "42/42 [==============================] - 0s 3ms/step - loss: 0.7993 - sparse_categorical_accuracy: 0.6629 - val_loss: 0.8504 - val_sparse_categorical_accuracy: 0.6786\n",
            "Epoch 61/100\n",
            "42/42 [==============================] - 0s 3ms/step - loss: 0.7817 - sparse_categorical_accuracy: 0.6562 - val_loss: 0.8473 - val_sparse_categorical_accuracy: 0.6756\n",
            "Epoch 62/100\n",
            "42/42 [==============================] - 0s 3ms/step - loss: 0.7789 - sparse_categorical_accuracy: 0.6667 - val_loss: 0.8440 - val_sparse_categorical_accuracy: 0.6815\n",
            "Epoch 63/100\n",
            "42/42 [==============================] - 0s 3ms/step - loss: 0.7690 - sparse_categorical_accuracy: 0.6845 - val_loss: 0.8411 - val_sparse_categorical_accuracy: 0.6845\n",
            "Epoch 64/100\n",
            "42/42 [==============================] - 0s 3ms/step - loss: 0.7677 - sparse_categorical_accuracy: 0.6838 - val_loss: 0.8422 - val_sparse_categorical_accuracy: 0.6756\n",
            "Epoch 65/100\n",
            "42/42 [==============================] - 0s 3ms/step - loss: 0.7658 - sparse_categorical_accuracy: 0.6778 - val_loss: 0.8381 - val_sparse_categorical_accuracy: 0.6905\n",
            "Epoch 66/100\n",
            "42/42 [==============================] - 0s 3ms/step - loss: 0.7450 - sparse_categorical_accuracy: 0.6957 - val_loss: 0.8340 - val_sparse_categorical_accuracy: 0.6786\n",
            "Epoch 67/100\n",
            "42/42 [==============================] - 0s 2ms/step - loss: 0.7521 - sparse_categorical_accuracy: 0.6830 - val_loss: 0.8328 - val_sparse_categorical_accuracy: 0.6845\n",
            "Epoch 68/100\n",
            "42/42 [==============================] - 0s 3ms/step - loss: 0.7461 - sparse_categorical_accuracy: 0.6905 - val_loss: 0.8322 - val_sparse_categorical_accuracy: 0.6845\n",
            "Epoch 69/100\n",
            "42/42 [==============================] - 0s 3ms/step - loss: 0.7493 - sparse_categorical_accuracy: 0.6830 - val_loss: 0.8277 - val_sparse_categorical_accuracy: 0.6845\n",
            "Epoch 70/100\n",
            "42/42 [==============================] - 0s 3ms/step - loss: 0.7468 - sparse_categorical_accuracy: 0.6897 - val_loss: 0.8244 - val_sparse_categorical_accuracy: 0.6845\n",
            "Epoch 71/100\n",
            "42/42 [==============================] - 0s 3ms/step - loss: 0.7222 - sparse_categorical_accuracy: 0.6927 - val_loss: 0.8218 - val_sparse_categorical_accuracy: 0.6875\n",
            "Epoch 72/100\n",
            "42/42 [==============================] - 0s 3ms/step - loss: 0.7331 - sparse_categorical_accuracy: 0.6838 - val_loss: 0.8198 - val_sparse_categorical_accuracy: 0.6845\n",
            "Epoch 73/100\n",
            "42/42 [==============================] - 0s 3ms/step - loss: 0.7202 - sparse_categorical_accuracy: 0.7024 - val_loss: 0.8209 - val_sparse_categorical_accuracy: 0.6815\n",
            "Epoch 74/100\n",
            "42/42 [==============================] - 0s 3ms/step - loss: 0.7239 - sparse_categorical_accuracy: 0.6987 - val_loss: 0.8173 - val_sparse_categorical_accuracy: 0.6815\n",
            "Epoch 75/100\n",
            "42/42 [==============================] - 0s 3ms/step - loss: 0.7270 - sparse_categorical_accuracy: 0.6942 - val_loss: 0.8162 - val_sparse_categorical_accuracy: 0.6845\n",
            "Epoch 76/100\n",
            "42/42 [==============================] - 0s 3ms/step - loss: 0.7335 - sparse_categorical_accuracy: 0.6689 - val_loss: 0.8124 - val_sparse_categorical_accuracy: 0.6845\n",
            "Epoch 77/100\n",
            "42/42 [==============================] - 0s 3ms/step - loss: 0.7267 - sparse_categorical_accuracy: 0.6838 - val_loss: 0.8096 - val_sparse_categorical_accuracy: 0.6815\n",
            "Epoch 78/100\n",
            "42/42 [==============================] - 0s 3ms/step - loss: 0.7197 - sparse_categorical_accuracy: 0.6949 - val_loss: 0.8091 - val_sparse_categorical_accuracy: 0.6756\n",
            "Epoch 79/100\n",
            "42/42 [==============================] - 0s 3ms/step - loss: 0.7240 - sparse_categorical_accuracy: 0.7016 - val_loss: 0.8063 - val_sparse_categorical_accuracy: 0.6756\n",
            "Epoch 80/100\n",
            "42/42 [==============================] - 0s 3ms/step - loss: 0.7111 - sparse_categorical_accuracy: 0.7024 - val_loss: 0.8035 - val_sparse_categorical_accuracy: 0.6756\n",
            "Epoch 81/100\n",
            "42/42 [==============================] - 0s 3ms/step - loss: 0.7115 - sparse_categorical_accuracy: 0.7016 - val_loss: 0.8026 - val_sparse_categorical_accuracy: 0.6726\n",
            "Epoch 82/100\n",
            "42/42 [==============================] - 0s 3ms/step - loss: 0.7381 - sparse_categorical_accuracy: 0.6778 - val_loss: 0.8041 - val_sparse_categorical_accuracy: 0.6875\n",
            "Epoch 83/100\n",
            "42/42 [==============================] - 0s 3ms/step - loss: 0.7149 - sparse_categorical_accuracy: 0.6994 - val_loss: 0.8041 - val_sparse_categorical_accuracy: 0.6935\n",
            "Epoch 84/100\n",
            "42/42 [==============================] - 0s 3ms/step - loss: 0.7307 - sparse_categorical_accuracy: 0.6957 - val_loss: 0.8016 - val_sparse_categorical_accuracy: 0.6815\n",
            "Epoch 85/100\n",
            "42/42 [==============================] - 0s 3ms/step - loss: 0.7038 - sparse_categorical_accuracy: 0.7135 - val_loss: 0.7974 - val_sparse_categorical_accuracy: 0.6815\n",
            "Epoch 86/100\n",
            "42/42 [==============================] - 0s 3ms/step - loss: 0.7046 - sparse_categorical_accuracy: 0.7128 - val_loss: 0.7974 - val_sparse_categorical_accuracy: 0.6964\n",
            "Epoch 87/100\n",
            "42/42 [==============================] - 0s 3ms/step - loss: 0.7133 - sparse_categorical_accuracy: 0.7098 - val_loss: 0.7959 - val_sparse_categorical_accuracy: 0.7024\n",
            "Epoch 88/100\n",
            "42/42 [==============================] - 0s 3ms/step - loss: 0.7054 - sparse_categorical_accuracy: 0.6815 - val_loss: 0.7956 - val_sparse_categorical_accuracy: 0.6964\n",
            "Epoch 89/100\n",
            "42/42 [==============================] - 0s 3ms/step - loss: 0.6966 - sparse_categorical_accuracy: 0.7135 - val_loss: 0.7911 - val_sparse_categorical_accuracy: 0.7054\n",
            "Epoch 90/100\n",
            "42/42 [==============================] - 0s 3ms/step - loss: 0.6955 - sparse_categorical_accuracy: 0.7083 - val_loss: 0.7907 - val_sparse_categorical_accuracy: 0.6875\n",
            "Epoch 91/100\n",
            "42/42 [==============================] - 0s 3ms/step - loss: 0.6913 - sparse_categorical_accuracy: 0.7098 - val_loss: 0.7915 - val_sparse_categorical_accuracy: 0.6935\n",
            "Epoch 92/100\n",
            "42/42 [==============================] - 0s 3ms/step - loss: 0.6695 - sparse_categorical_accuracy: 0.7247 - val_loss: 0.7888 - val_sparse_categorical_accuracy: 0.7054\n",
            "Epoch 93/100\n",
            "42/42 [==============================] - 0s 3ms/step - loss: 0.6821 - sparse_categorical_accuracy: 0.7016 - val_loss: 0.7917 - val_sparse_categorical_accuracy: 0.7024\n",
            "Epoch 94/100\n",
            "42/42 [==============================] - 0s 3ms/step - loss: 0.6934 - sparse_categorical_accuracy: 0.6830 - val_loss: 0.7929 - val_sparse_categorical_accuracy: 0.6994\n",
            "Epoch 95/100\n",
            "42/42 [==============================] - 0s 3ms/step - loss: 0.6710 - sparse_categorical_accuracy: 0.7403 - val_loss: 0.7869 - val_sparse_categorical_accuracy: 0.6935\n",
            "Epoch 96/100\n",
            "42/42 [==============================] - 0s 3ms/step - loss: 0.6941 - sparse_categorical_accuracy: 0.6987 - val_loss: 0.7867 - val_sparse_categorical_accuracy: 0.6964\n",
            "Epoch 97/100\n",
            "42/42 [==============================] - 0s 3ms/step - loss: 0.7108 - sparse_categorical_accuracy: 0.6957 - val_loss: 0.7864 - val_sparse_categorical_accuracy: 0.6935\n",
            "Epoch 98/100\n",
            "42/42 [==============================] - 0s 3ms/step - loss: 0.6762 - sparse_categorical_accuracy: 0.7225 - val_loss: 0.7839 - val_sparse_categorical_accuracy: 0.6935\n",
            "Epoch 99/100\n",
            "42/42 [==============================] - 0s 3ms/step - loss: 0.6685 - sparse_categorical_accuracy: 0.7158 - val_loss: 0.7834 - val_sparse_categorical_accuracy: 0.6994\n",
            "Epoch 100/100\n",
            "42/42 [==============================] - 0s 2ms/step - loss: 0.6747 - sparse_categorical_accuracy: 0.7106 - val_loss: 0.7862 - val_sparse_categorical_accuracy: 0.6994\n"
          ],
          "name": "stdout"
        }
      ]
    },
    {
      "cell_type": "code",
      "metadata": {
        "colab": {
          "base_uri": "https://localhost:8080/"
        },
        "id": "mUq0Bmdr2zdF",
        "outputId": "9f15b9ba-7599-42b2-bee8-bebe8353ac4f"
      },
      "source": [
        "history_dict = history.history\n",
        "history_dict.keys()"
      ],
      "execution_count": 22,
      "outputs": [
        {
          "output_type": "execute_result",
          "data": {
            "text/plain": [
              "dict_keys(['loss', 'sparse_categorical_accuracy', 'val_loss', 'val_sparse_categorical_accuracy'])"
            ]
          },
          "metadata": {
            "tags": []
          },
          "execution_count": 22
        }
      ]
    },
    {
      "cell_type": "markdown",
      "metadata": {
        "id": "PxPs4nfQCvDe"
      },
      "source": [
        "The plots below show the training and validation loss and accuracy:"
      ]
    },
    {
      "cell_type": "code",
      "metadata": {
        "colab": {
          "base_uri": "https://localhost:8080/",
          "height": 295
        },
        "id": "Qu5cdcw127c2",
        "outputId": "fe41fc12-6937-48d2-c9cf-2d102b194555"
      },
      "source": [
        "acc = history_dict['sparse_categorical_accuracy']\n",
        "val_acc = history_dict['val_sparse_categorical_accuracy']\n",
        "loss = history_dict['loss']\n",
        "val_loss = history_dict['val_loss']\n",
        "\n",
        "epochs = range(1, len(acc) + 1)\n",
        "\n",
        "plt.plot(epochs, loss, 'r', label='Training loss')\n",
        "plt.plot(epochs, val_loss, 'b', label='Validation loss')\n",
        "plt.title('Training and validation loss')\n",
        "plt.xlabel('Epochs')\n",
        "plt.ylabel('Loss')\n",
        "plt.legend()\n",
        "\n",
        "plt.show()"
      ],
      "execution_count": 23,
      "outputs": [
        {
          "output_type": "display_data",
          "data": {
            "image/png": "[encoded data removed]",
            "text/plain": [
              "<Figure size 432x288 with 1 Axes>"
            ]
          },
          "metadata": {
            "tags": [],
            "needs_background": "light"
          }
        }
      ]
    },
    {
      "cell_type": "code",
      "metadata": {
        "colab": {
          "base_uri": "https://localhost:8080/",
          "height": 295
        },
        "id": "_dSGcC8y29km",
        "outputId": "50103df2-dea0-47e1-d17f-fd378d45acfd"
      },
      "source": [
        "plt.plot(epochs, acc, 'r', label='Training acc')\n",
        "plt.plot(epochs, val_acc, 'b', label='Validation acc')\n",
        "plt.title('Training and validation accuracy')\n",
        "plt.xlabel('Epochs')\n",
        "plt.ylabel('Accuracy')\n",
        "plt.legend(loc='lower right')\n",
        "\n",
        "plt.show()"
      ],
      "execution_count": 24,
      "outputs": [
        {
          "output_type": "display_data",
          "data": {
            "image/png": "[encoded data removed]",
            "text/plain": [
              "<Figure size 432x288 with 1 Axes>"
            ]
          },
          "metadata": {
            "tags": [],
            "needs_background": "light"
          }
        }
      ]
    },
    {
      "cell_type": "markdown",
      "metadata": {
        "id": "7bBOf5giC0Ce"
      },
      "source": [
        "Finally, I evaluate the model on the test set:"
      ]
    },
    {
      "cell_type": "code",
      "metadata": {
        "colab": {
          "base_uri": "https://localhost:8080/"
        },
        "id": "7JA811-J2lrF",
        "outputId": "f2af09c9-bd0c-48c7-ad42-7ac4a750f47c"
      },
      "source": [
        "loss, accuracy = model.evaluate(test_ds)\n",
        "\n",
        "print(\"Loss: \", loss)\n",
        "print(\"Accuracy: \", accuracy)"
      ],
      "execution_count": 25,
      "outputs": [
        {
          "output_type": "stream",
          "text": [
            "14/14 [==============================] - 0s 3ms/step - loss: 0.7459 - sparse_categorical_accuracy: 0.6762\n",
            "Loss:  0.745868444442749\n",
            "Accuracy:  0.6761904954910278\n"
          ],
          "name": "stdout"
        }
      ]
    },
    {
      "cell_type": "code",
      "metadata": {
        "id": "KLNmgyK42nZ1"
      },
      "source": [
        "y_test = np.concatenate([y for x, y in test_ds], axis=0)"
      ],
      "execution_count": 26,
      "outputs": []
    },
    {
      "cell_type": "markdown",
      "metadata": {
        "id": "Q3jDUoozC5ze"
      },
      "source": [
        "Lastly, the confusion matrix shows the confuability of the 3 classes (crime, romance, sci-fi)."
      ]
    },
    {
      "cell_type": "code",
      "metadata": {
        "colab": {
          "base_uri": "https://localhost:8080/"
        },
        "id": "hRaDBGG92sx1",
        "outputId": "39ad9d6c-c396-49de-ad43-bb62915d0e13"
      },
      "source": [
        "from sklearn.metrics import confusion_matrix\n",
        "y_pred = np.argmax(model.predict(test_ds), axis=-1)  #model.predict_classes() is depreciated\n",
        "cm = confusion_matrix(y_test, y_pred)\n",
        "cm"
      ],
      "execution_count": 27,
      "outputs": [
        {
          "output_type": "execute_result",
          "data": {
            "text/plain": [
              "array([[92, 35, 13],\n",
              "       [30, 94, 16],\n",
              "       [23, 19, 98]])"
            ]
          },
          "metadata": {
            "tags": []
          },
          "execution_count": 27
        }
      ]
    }
  ]
}